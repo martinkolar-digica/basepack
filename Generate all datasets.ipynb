{
 "cells": [
  {
   "cell_type": "code",
   "execution_count": 2,
   "metadata": {},
   "outputs": [],
   "source": [
    "#imports\n",
    "import numpy as np\n",
    "import csv\n",
    "import matplotlib.pyplot as plt\n",
    "from scipy.spatial import ConvexHull\n",
    "import numpy as np\n",
    "from stl import mesh\n",
    "\n",
    "from stl import mesh\n",
    "from mpl_toolkits import mplot3d\n",
    "from matplotlib import pyplot\n",
    "%matplotlib notebook"
   ]
  },
  {
   "cell_type": "code",
   "execution_count": 90,
   "metadata": {},
   "outputs": [],
   "source": [
    "#generate 2D rectangles - dataset 1\n",
    "np.random.seed(0)\n",
    "\n",
    "def random_rectangle(min_scale, max_scale):\n",
    "    scale = np.random.rand()*(max_scale-min_scale)+min_scale\n",
    "    width, height = np.random.rand(2)*scale\n",
    "    return np.round([0, 0, 0, width, height, width, height, 0],5)\n",
    "\n",
    "num_polytopes = 50\n",
    "rectanges = list()\n",
    "for i in range(0,num_polytopes):\n",
    "    rectanges.append(random_rectangle(1,10))\n",
    "    \n",
    "with open('dataset_1.csv', mode='w') as csv_file:\n",
    "    csv_writer = csv.writer(csv_file, delimiter=',')\n",
    "    for i in range(0,num_polytopes):\n",
    "        csv_writer.writerow(rectanges[i])"
   ]
  },
  {
   "cell_type": "code",
   "execution_count": 191,
   "metadata": {},
   "outputs": [],
   "source": [
    "#generate 2D convex polygons - dataset 2\n",
    "np.random.seed(0)\n",
    "\n",
    "def random_polygon_convex(min_scale, max_scale, min_vertices, max_vertices):\n",
    "    n_vertices = np.random.randint(min_vertices,max_vertices)\n",
    "    scale = np.random.rand()*(max_scale-min_scale)+min_scale\n",
    "    points = np.random.rand(n_vertices, 2)*scale\n",
    "    hull = ConvexHull(points)\n",
    "\n",
    "    vertices = points[hull.vertices,:]\n",
    "    return vertices\n",
    "\n",
    "num_polytopes = 50\n",
    "convex_polygons = list()\n",
    "for i in range(0,num_polytopes):\n",
    "    convex_polygons.append(random_polygon_convex(1,10,3,12))\n",
    "    \n",
    "with open('dataset_2.csv', mode='w') as csv_file:\n",
    "    csv_writer = csv.writer(csv_file, delimiter=',')\n",
    "    for i in range(0,num_polytopes):\n",
    "        csv_writer.writerow(convex_polygons[i].flatten())"
   ]
  },
  {
   "cell_type": "code",
   "execution_count": null,
   "metadata": {},
   "outputs": [],
   "source": [
    "disp_vertices = np.vstack((vertices,vertices[0,:]))\n",
    "plt.plot(disp_vertices[:,0],disp_vertices[:,1])\n",
    "plt.show()"
   ]
  },
  {
   "cell_type": "code",
   "execution_count": null,
   "metadata": {},
   "outputs": [],
   "source": [
    "#generate 2D non-convex polygons - dataset 3"
   ]
  },
  {
   "cell_type": "code",
   "execution_count": null,
   "metadata": {},
   "outputs": [],
   "source": [
    "#dataset 4 is the union of datasets 1, 2, and 3"
   ]
  },
  {
   "cell_type": "code",
   "execution_count": null,
   "metadata": {},
   "outputs": [],
   "source": [
    "#generate 3D cuboids - dataset 5"
   ]
  },
  {
   "cell_type": "code",
   "execution_count": null,
   "metadata": {},
   "outputs": [],
   "source": [
    "#generate 3D convex polytopes - dataset 6"
   ]
  },
  {
   "cell_type": "code",
   "execution_count": null,
   "metadata": {},
   "outputs": [],
   "source": [
    "#generate 3D non-convex polytopes - dataset 7"
   ]
  },
  {
   "cell_type": "code",
   "execution_count": null,
   "metadata": {},
   "outputs": [],
   "source": [
    "#dataset 8 is the union of datasets 5, 6, and 7"
   ]
  }
 ],
 "metadata": {
  "kernelspec": {
   "display_name": "p36conda",
   "language": "python",
   "name": "p36conda"
  },
  "language_info": {
   "codemirror_mode": {
    "name": "ipython",
    "version": 3
   },
   "file_extension": ".py",
   "mimetype": "text/x-python",
   "name": "python",
   "nbconvert_exporter": "python",
   "pygments_lexer": "ipython3",
   "version": "3.6.10"
  }
 },
 "nbformat": 4,
 "nbformat_minor": 2
}
